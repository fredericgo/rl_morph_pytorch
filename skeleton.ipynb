{
 "metadata": {
  "language_info": {
   "codemirror_mode": {
    "name": "ipython",
    "version": 3
   },
   "file_extension": ".py",
   "mimetype": "text/x-python",
   "name": "python",
   "nbconvert_exporter": "python",
   "pygments_lexer": "ipython3",
   "version": "3.7.9"
  },
  "orig_nbformat": 2,
  "kernelspec": {
   "name": "python379jvsc74a57bd0ee17f4344a3d7ed6c8e035fd79bce829a8e6032bdc4f430dff5b5f2b581d81b2",
   "display_name": "Python 3.7.9 64-bit ('pytorch': conda)"
  }
 },
 "nbformat": 4,
 "nbformat_minor": 2,
 "cells": [
  {
   "cell_type": "code",
   "execution_count": 7,
   "metadata": {},
   "outputs": [],
   "source": [
    "from kinematics import mjcf_parser\n",
    "import networkx as nx\n",
    "import numpy as np\n",
    "import torch\n",
    "from torch_geometric.data import Dataset, InMemoryDataset\n",
    "from skeleton_graph_vae.skeleton import SkeletonParser\n",
    "import networkx as nx"
   ]
  },
  {
   "cell_type": "code",
   "execution_count": 8,
   "metadata": {},
   "outputs": [],
   "source": [
    "ant_xml = 'envs/assets/ant.xml'\n"
   ]
  },
  {
   "cell_type": "code",
   "execution_count": 27,
   "metadata": {},
   "outputs": [],
   "source": [
    "sk = SkeletonParser(xml_file=ant_xml)"
   ]
  },
  {
   "cell_type": "code",
   "execution_count": 34,
   "metadata": {},
   "outputs": [],
   "source": [
    "g = sk.graph"
   ]
  },
  {
   "cell_type": "code",
   "execution_count": 35,
   "metadata": {},
   "outputs": [
    {
     "output_type": "execute_result",
     "data": {
      "text/plain": [
       "EdgeView([('root', 'dummy_1'), ('root', 'dummy_2'), ('root', 'dummy_3'), ('root', 'dummy_4'), ('dummy_1', 'hip_1'), ('hip_1', 'ankle_1'), ('ankle_1', 'ee_1'), ('dummy_2', 'hip_2'), ('hip_2', 'ankle_2'), ('ankle_2', 'ee_2'), ('dummy_3', 'hip_3'), ('hip_3', 'ankle_3'), ('ankle_3', 'ee_3'), ('dummy_4', 'hip_4'), ('hip_4', 'ankle_4'), ('ankle_4', 'ee_4')])"
      ]
     },
     "metadata": {},
     "execution_count": 35
    }
   ],
   "source": [
    "g.edges"
   ]
  },
  {
   "cell_type": "code",
   "execution_count": 36,
   "metadata": {},
   "outputs": [],
   "source": [
    "g = nx.to_directed(g)\n",
    "g = nx.convert_node_labels_to_integers(g)"
   ]
  },
  {
   "cell_type": "code",
   "execution_count": 37,
   "metadata": {},
   "outputs": [
    {
     "output_type": "execute_result",
     "data": {
      "text/plain": [
       "OutEdgeView([(0, 1), (0, 5), (0, 9), (0, 13), (1, 0), (1, 2), (2, 1), (2, 3), (3, 2), (3, 4), (4, 3), (5, 0), (5, 6), (6, 5), (6, 7), (7, 6), (7, 8), (8, 7), (9, 0), (9, 10), (10, 9), (10, 11), (11, 10), (11, 12), (12, 11), (13, 0), (13, 14), (14, 13), (14, 15), (15, 14), (15, 16), (16, 15)])"
      ]
     },
     "metadata": {},
     "execution_count": 37
    }
   ],
   "source": [
    "g.edges"
   ]
  },
  {
   "cell_type": "code",
   "execution_count": null,
   "metadata": {},
   "outputs": [],
   "source": []
  }
 ]
}