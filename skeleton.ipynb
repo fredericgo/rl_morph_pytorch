{
 "metadata": {
  "language_info": {
   "codemirror_mode": {
    "name": "ipython",
    "version": 3
   },
   "file_extension": ".py",
   "mimetype": "text/x-python",
   "name": "python",
   "nbconvert_exporter": "python",
   "pygments_lexer": "ipython3",
   "version": "3.7.9-final"
  },
  "orig_nbformat": 2,
  "kernelspec": {
   "name": "python3",
   "display_name": "Python 3.7.9 64-bit ('pytorch': conda)",
   "metadata": {
    "interpreter": {
     "hash": "ee17f4344a3d7ed6c8e035fd79bce829a8e6032bdc4f430dff5b5f2b581d81b2"
    }
   }
  }
 },
 "nbformat": 4,
 "nbformat_minor": 2,
 "cells": [
  {
   "cell_type": "code",
   "execution_count": 152,
   "metadata": {},
   "outputs": [],
   "source": [
    "from kinematics import mjcf_parser\n",
    "import networkx as nx"
   ]
  },
  {
   "cell_type": "code",
   "execution_count": 141,
   "metadata": {},
   "outputs": [],
   "source": [
    "class Node:\n",
    "    def __init__(self, name, type, axis):\n",
    "        self.name = name\n",
    "        self.type = type\n",
    "        self.axis = axis\n",
    "        self._edges = []\n",
    "    \n",
    "    def add_edge(self, e):\n",
    "        self._edges.append(e)\n",
    "\n",
    "    def __repr__(self):\n",
    "        return f\"{self.name} {self.type} {self.axis}\"\n",
    "\n",
    "class DummyNode(Node):\n",
    "    def __init__(self):\n",
    "        super(DummyNode, self).__init__(None, \"dummy\", None)\n",
    "\n",
    "class Edge:\n",
    "    def __init__(self, **features):\n",
    "        self._features = features"
   ]
  },
  {
   "cell_type": "code",
   "execution_count": 142,
   "metadata": {},
   "outputs": [],
   "source": [
    "ant_xml = 'envs/assets/ant.xml'\n",
    "model = mjcf_parser.from_path(ant_xml)"
   ]
  },
  {
   "cell_type": "code",
   "execution_count": 143,
   "metadata": {},
   "outputs": [],
   "source": [
    "root_body = model.worldbody.body[0]"
   ]
  },
  {
   "cell_type": "code",
   "execution_count": 144,
   "metadata": {},
   "outputs": [],
   "source": [
    "# root_joint represent root pos and orientation\n",
    "j = root_body.joint[0]\n",
    "root_j = Node(j.name, j.type, j.axis)"
   ]
  },
  {
   "cell_type": "code",
   "execution_count": 145,
   "metadata": {},
   "outputs": [
    {
     "output_type": "execute_result",
     "data": {
      "text/plain": [
       "<__main__.Edge at 0x7f7011cd4710>"
      ]
     },
     "metadata": {},
     "execution_count": 145
    }
   ],
   "source": [
    "b = root_body.body[0]\n",
    "b.name\n",
    "b.pos\n",
    "b.geom[0].name\n",
    "b.geom[0].type\n",
    "b.geom[0].fromto\n",
    "b.geom[0].size\n",
    "Edge()"
   ]
  },
  {
   "cell_type": "code",
   "execution_count": 146,
   "metadata": {},
   "outputs": [
    {
     "output_type": "execute_result",
     "data": {
      "text/plain": [
       "MJCF Element: <body name=\"front_left_leg\" pos=\"0 0 0\">...</body>"
      ]
     },
     "metadata": {},
     "execution_count": 146
    }
   ],
   "source": [
    "root_body.body[0]"
   ]
  },
  {
   "cell_type": "code",
   "execution_count": 200,
   "metadata": {},
   "outputs": [],
   "source": [
    "\n",
    "j = root_body.joint[0]\n",
    "root_j = Node(j.name, j.type, j.axis)\n",
    "g = nx.Graph()\n",
    "g.add_node(j.name)\n",
    "\n",
    "n_dummy = 0\n",
    "\n",
    "def _build_graph_recurse(parent_body, joint):\n",
    "    # root_joint represent root pos and orientation\n",
    "    global n_dummy\n",
    "\n",
    "    for b in parent_body.body:   \n",
    "        if b.joint:\n",
    "                joint = b.joint[0]\n",
    "            else:\n",
    "                joint = f\"dummy_{n_dummy}\"\n",
    "                n_dummy += 1\n",
    "        for e in b.geom:\n",
    "            \n",
    "            \n",
    "\n",
    "\n",
    "        _build_graph_recurse(b, parj)"
   ]
  },
  {
   "cell_type": "code",
   "execution_count": 201,
   "metadata": {},
   "outputs": [
    {
     "output_type": "error",
     "ename": "NameError",
     "evalue": "name 'parent_j' is not defined",
     "traceback": [
      "\u001b[0;31m---------------------------------------------------------------------------\u001b[0m",
      "\u001b[0;31mNameError\u001b[0m                                 Traceback (most recent call last)",
      "\u001b[0;32m<ipython-input-201-1330ebf5ad59>\u001b[0m in \u001b[0;36m<module>\u001b[0;34m\u001b[0m\n\u001b[0;32m----> 1\u001b[0;31m \u001b[0m_build_graph_recurse\u001b[0m\u001b[0;34m(\u001b[0m\u001b[0mroot_body\u001b[0m\u001b[0;34m,\u001b[0m \u001b[0mroot_j\u001b[0m\u001b[0;34m)\u001b[0m\u001b[0;34m\u001b[0m\u001b[0;34m\u001b[0m\u001b[0m\n\u001b[0m",
      "\u001b[0;32m<ipython-input-200-e5f63098d3b2>\u001b[0m in \u001b[0;36m_build_graph_recurse\u001b[0;34m(parent_body, joint)\u001b[0m\n\u001b[1;32m     20\u001b[0m \u001b[0;34m\u001b[0m\u001b[0m\n\u001b[1;32m     21\u001b[0m \u001b[0;34m\u001b[0m\u001b[0m\n\u001b[0;32m---> 22\u001b[0;31m         \u001b[0m_build_graph_recurse\u001b[0m\u001b[0;34m(\u001b[0m\u001b[0mb\u001b[0m\u001b[0;34m,\u001b[0m \u001b[0mparent_j\u001b[0m\u001b[0;34m)\u001b[0m\u001b[0;34m\u001b[0m\u001b[0;34m\u001b[0m\u001b[0m\n\u001b[0m",
      "\u001b[0;31mNameError\u001b[0m: name 'parent_j' is not defined"
     ]
    }
   ],
   "source": [
    "_build_graph_recurse(root_body, root_j)"
   ]
  },
  {
   "cell_type": "code",
   "execution_count": 199,
   "metadata": {},
   "outputs": [
    {
     "output_type": "execute_result",
     "data": {
      "text/plain": [
       "NodeView(('root',))"
      ]
     },
     "metadata": {},
     "execution_count": 199
    }
   ],
   "source": [
    "g.nodes"
   ]
  },
  {
   "cell_type": "code",
   "execution_count": null,
   "metadata": {},
   "outputs": [],
   "source": []
  }
 ]
}